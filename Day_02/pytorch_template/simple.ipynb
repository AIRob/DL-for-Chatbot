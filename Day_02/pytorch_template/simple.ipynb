{
 "cells": [
  {
   "cell_type": "code",
   "execution_count": 1,
   "metadata": {
    "ExecuteTime": {
     "end_time": "2017-07-28T09:39:52.675146Z",
     "start_time": "2017-07-28T09:39:51.977398Z"
    },
    "collapsed": true
   },
   "outputs": [],
   "source": [
    "import torch\n",
    "from torch import nn\n",
    "from torch import optim\n",
    "from torch.utils import data\n",
    "from torch.autograd import Variable\n",
    "from torchvision import datasets\n",
    "from torchvision import transforms\n",
    "\n",
    "import numpy as np\n",
    "from tqdm import tqdm"
   ]
  },
  {
   "cell_type": "markdown",
   "metadata": {},
   "source": [
    "# Data"
   ]
  },
  {
   "cell_type": "code",
   "execution_count": 2,
   "metadata": {
    "ExecuteTime": {
     "end_time": "2017-07-28T09:39:52.757140Z",
     "start_time": "2017-07-28T09:39:52.676889Z"
    },
    "collapsed": true
   },
   "outputs": [],
   "source": [
    "train_transform = transforms.Compose([\n",
    "    transforms.ToTensor(),\n",
    "    transforms.Normalize(mean=(0.5,), std=(0.5,)), # (0, 1) => (-0.5, 0.5) => (-1, 1)\n",
    "\n",
    "])\n",
    "test_transform = transforms.Compose([\n",
    "    transforms.ToTensor(),\n",
    "    transforms.Normalize(mean=(0.5,), std=(0.5,)), # (0, 1) => (-0.5, 0.5) => (-1, 1)\n",
    "])\n",
    "\n",
    "train_dataset = datasets.MNIST(root='/Users/jmin/workspace/ml/datasets', train=True, transform=train_transform)\n",
    "test_dataset = datasets.MNIST(root='/Users/jmin/workspace/ml/datasets', train=False, transform=test_transform)\n",
    "\n",
    "train_dataloader = data.DataLoader(\n",
    "    dataset=train_dataset, batch_size=100, shuffle=True)\n",
    "test_dataloader = data.DataLoader(\n",
    "    dataset=test_dataset, batch_size=100, shuffle=False)"
   ]
  },
  {
   "cell_type": "markdown",
   "metadata": {},
   "source": [
    "# Model"
   ]
  },
  {
   "cell_type": "code",
   "execution_count": 3,
   "metadata": {
    "ExecuteTime": {
     "end_time": "2017-07-28T09:39:52.794174Z",
     "start_time": "2017-07-28T09:39:52.758689Z"
    },
    "collapsed": true
   },
   "outputs": [],
   "source": [
    "class NNClassifier(nn.Module):\n",
    "    def __init__(self):\n",
    "        super(NNClassifier, self).__init__()\n",
    "        self.layer_1 = nn.Linear(28 * 28, 200)\n",
    "        self.layer_2 = nn.Linear(200, 50)\n",
    "        self.layer_3 = nn.Linear(50, 10)\n",
    "\n",
    "        self.lrelu = nn.LeakyReLU()\n",
    "\n",
    "        self.softmax = nn.Softmax()\n",
    "\n",
    "        self.net = nn.Sequential(\n",
    "            self.layer_1,  # 784 => 200\n",
    "            self.lrelu,\n",
    "            self.layer_2,  # 200 => 50\n",
    "            self.lrelu,\n",
    "            self.layer_3,  # 50 => 10\n",
    "            self.softmax,\n",
    "        )\n",
    "\n",
    "    def forward(self, x):\n",
    "        # [batch_size, 784] => [batch_size, 1]\n",
    "        return self.net(x)"
   ]
  },
  {
   "cell_type": "markdown",
   "metadata": {},
   "source": [
    "# Build"
   ]
  },
  {
   "cell_type": "code",
   "execution_count": 1,
   "metadata": {
    "ExecuteTime": {
     "end_time": "2017-07-28T14:48:01.146404Z",
     "start_time": "2017-07-28T14:48:01.011870Z"
    }
   },
   "outputs": [
    {
     "ename": "NameError",
     "evalue": "name 'NNClassifier' is not defined",
     "output_type": "error",
     "traceback": [
      "\u001b[0;31m---------------------------------------------------------------------------\u001b[0m",
      "\u001b[0;31mNameError\u001b[0m                                 Traceback (most recent call last)",
      "\u001b[0;32m<ipython-input-1-1a59bb10e4ad>\u001b[0m in \u001b[0;36m<module>\u001b[0;34m()\u001b[0m\n\u001b[0;32m----> 1\u001b[0;31m \u001b[0mclassifier\u001b[0m \u001b[0;34m=\u001b[0m \u001b[0mNNClassifier\u001b[0m\u001b[0;34m(\u001b[0m\u001b[0;34m)\u001b[0m\u001b[0;34m\u001b[0m\u001b[0m\n\u001b[0m\u001b[1;32m      2\u001b[0m \u001b[0;34m\u001b[0m\u001b[0m\n\u001b[1;32m      3\u001b[0m \u001b[0mloss_fn\u001b[0m \u001b[0;34m=\u001b[0m \u001b[0mnn\u001b[0m\u001b[0;34m.\u001b[0m\u001b[0mCrossEntropyLoss\u001b[0m\u001b[0;34m(\u001b[0m\u001b[0;34m)\u001b[0m\u001b[0;34m\u001b[0m\u001b[0m\n\u001b[1;32m      4\u001b[0m \u001b[0;31m# Args:\u001b[0m\u001b[0;34m\u001b[0m\u001b[0;34m\u001b[0m\u001b[0m\n\u001b[1;32m      5\u001b[0m \u001b[0;31m#     Input: (batch_size, number of classes)\u001b[0m\u001b[0;34m\u001b[0m\u001b[0;34m\u001b[0m\u001b[0m\n",
      "\u001b[0;31mNameError\u001b[0m: name 'NNClassifier' is not defined"
     ]
    }
   ],
   "source": [
    "classifier = NNClassifier()\n",
    "\n",
    "loss_fn = nn.CrossEntropyLoss()\n",
    "# Args:\n",
    "#     Input: (batch_size, number of classes)\n",
    "#     Target: (batch_size)\n",
    "\n",
    "optimizer = optim.SGD(params=classifier.parameters(), lr=1e-3)"
   ]
  },
  {
   "cell_type": "markdown",
   "metadata": {},
   "source": [
    "# Train"
   ]
  },
  {
   "cell_type": "code",
   "execution_count": 8,
   "metadata": {
    "ExecuteTime": {
     "end_time": "2017-07-28T09:42:50.420277Z",
     "start_time": "2017-07-28T09:41:38.818862Z"
    }
   },
   "outputs": [
    {
     "name": "stderr",
     "output_type": "stream",
     "text": [
      "\r",
      "  0%|          | 0/10 [00:00<?, ?it/s]"
     ]
    },
    {
     "name": "stdout",
     "output_type": "stream",
     "text": [
      "Start training!\n",
      "\n"
     ]
    },
    {
     "name": "stderr",
     "output_type": "stream",
     "text": [
      "\r",
      " 10%|█         | 1/10 [00:07<01:05,  7.26s/it]"
     ]
    },
    {
     "name": "stdout",
     "output_type": "stream",
     "text": [
      "Epoch 1 | loss: 1.707\n",
      "\n"
     ]
    },
    {
     "name": "stderr",
     "output_type": "stream",
     "text": [
      "\r",
      " 20%|██        | 2/10 [00:14<00:57,  7.22s/it]"
     ]
    },
    {
     "name": "stdout",
     "output_type": "stream",
     "text": [
      "Epoch 2 | loss: 1.584\n",
      "\n"
     ]
    },
    {
     "name": "stderr",
     "output_type": "stream",
     "text": [
      "\r",
      " 30%|███       | 3/10 [00:21<00:50,  7.26s/it]"
     ]
    },
    {
     "name": "stdout",
     "output_type": "stream",
     "text": [
      "Epoch 3 | loss: 1.526\n",
      "\n"
     ]
    },
    {
     "name": "stderr",
     "output_type": "stream",
     "text": [
      "\r",
      " 40%|████      | 4/10 [00:29<00:43,  7.28s/it]"
     ]
    },
    {
     "name": "stdout",
     "output_type": "stream",
     "text": [
      "Epoch 4 | loss: 1.513\n",
      "\n"
     ]
    },
    {
     "name": "stderr",
     "output_type": "stream",
     "text": [
      "\r",
      " 50%|█████     | 5/10 [00:36<00:36,  7.25s/it]"
     ]
    },
    {
     "name": "stdout",
     "output_type": "stream",
     "text": [
      "Epoch 5 | loss: 1.507\n",
      "\n"
     ]
    },
    {
     "name": "stderr",
     "output_type": "stream",
     "text": [
      "\r",
      " 60%|██████    | 6/10 [00:43<00:28,  7.16s/it]"
     ]
    },
    {
     "name": "stdout",
     "output_type": "stream",
     "text": [
      "Epoch 6 | loss: 1.503\n",
      "\n"
     ]
    },
    {
     "name": "stderr",
     "output_type": "stream",
     "text": [
      "\r",
      " 70%|███████   | 7/10 [00:50<00:21,  7.17s/it]"
     ]
    },
    {
     "name": "stdout",
     "output_type": "stream",
     "text": [
      "Epoch 7 | loss: 1.498\n",
      "\n"
     ]
    },
    {
     "name": "stderr",
     "output_type": "stream",
     "text": [
      "\r",
      " 80%|████████  | 8/10 [00:57<00:14,  7.12s/it]"
     ]
    },
    {
     "name": "stdout",
     "output_type": "stream",
     "text": [
      "Epoch 8 | loss: 1.495\n",
      "\n"
     ]
    },
    {
     "name": "stderr",
     "output_type": "stream",
     "text": [
      "\r",
      " 90%|█████████ | 9/10 [01:04<00:07,  7.14s/it]"
     ]
    },
    {
     "name": "stdout",
     "output_type": "stream",
     "text": [
      "Epoch 9 | loss: 1.493\n",
      "\n"
     ]
    },
    {
     "name": "stderr",
     "output_type": "stream",
     "text": [
      "\r",
      "100%|██████████| 10/10 [01:11<00:00,  7.09s/it]"
     ]
    },
    {
     "name": "stdout",
     "output_type": "stream",
     "text": [
      "Epoch 10 | loss: 1.491\n",
      "\n"
     ]
    },
    {
     "name": "stderr",
     "output_type": "stream",
     "text": [
      "\n"
     ]
    }
   ],
   "source": [
    "print('Start training!\\n')\n",
    "for epoch in tqdm(range(10)):\n",
    "    # epoch_loss = average of batch losses\n",
    "    loss_history = []\n",
    "    for images, true_labels in train_dataloader:\n",
    "        # images: [batch_size, 1, 28, 28]\n",
    "        # true_labels: [batch_size]\n",
    "\n",
    "        # Tensor -> Variable\n",
    "        images = Variable(images)\n",
    "        true_labels = Variable(true_labels)\n",
    "        \n",
    "        # Resize (for loss function)\n",
    "        images = images.view(-1, 28*28) # [batch_size, 1, 28, 28] => [batch_size, 28x28]\n",
    "        true_labels = true_labels.view(-1) # [batch_size, 1] => [batch_size]\n",
    "\n",
    "        # [batch_size, 28x28] => [batch_size, 10]\n",
    "        predicted_labels = classifier(images)\n",
    "\n",
    "\n",
    "        # Calculate loss\n",
    "        average_batch_loss = loss_fn(predicted_labels, true_labels) # [1]\n",
    "        loss_history.append(average_batch_loss.data[0])  # Variable -> Tensor\n",
    "\n",
    "        # Flush out remaining gradient\n",
    "        optimizer.zero_grad()\n",
    "\n",
    "        # Backpropagation\n",
    "        average_batch_loss.backward()\n",
    "\n",
    "        # Gradient descent\n",
    "        optimizer.step()\n",
    "\n",
    "    if (epoch + 1) % 1 == 0:\n",
    "        epoch_loss = np.mean(loss_history)\n",
    "        log_str = 'Epoch {} | loss: {:.3f}\\n'.format(epoch + 1, epoch_loss)\n",
    "        print(log_str)"
   ]
  },
  {
   "cell_type": "markdown",
   "metadata": {},
   "source": [
    "# Evaluation"
   ]
  },
  {
   "cell_type": "code",
   "execution_count": 6,
   "metadata": {
    "ExecuteTime": {
     "end_time": "2017-07-28T09:40:58.427732Z",
     "start_time": "2017-07-28T09:40:57.386149Z"
    }
   },
   "outputs": [
    {
     "name": "stderr",
     "output_type": "stream",
     "text": [
      "\r",
      "  0%|          | 0/100 [00:00<?, ?it/s]"
     ]
    },
    {
     "name": "stdout",
     "output_type": "stream",
     "text": [
      "Start Evaluation!\n",
      "\n"
     ]
    },
    {
     "name": "stderr",
     "output_type": "stream",
     "text": [
      "100%|██████████| 100/100 [00:00<00:00, 108.28it/s]"
     ]
    },
    {
     "name": "stdout",
     "output_type": "stream",
     "text": [
      "Test loss: 2.292\n",
      "\n"
     ]
    },
    {
     "name": "stderr",
     "output_type": "stream",
     "text": [
      "\n"
     ]
    }
   ],
   "source": [
    "print('Start Evaluation!\\n')\n",
    "test_loss_history = []\n",
    "for images, true_labels in tqdm(test_dataloader):\n",
    "    # images: [batch_size, 1, 28, 28]\n",
    "    # true_labels: [batch_size]\n",
    "\n",
    "    # Tensor -> Variable\n",
    "    images = Variable(images)\n",
    "    true_labels = Variable(true_labels)\n",
    "\n",
    "    # Resize (for loss function)\n",
    "    images = images.view(-1, 28*28) # [batch_size, 1, 28, 28] => [batch_size, 28x28]\n",
    "    true_labels = true_labels.view(-1) # [batch_size, 1] => [batch_size]\n",
    "\n",
    "    # [batch_size, 28x28] => [batch_size, 10]\n",
    "    predicted_labels = classifier(images)\n",
    "\n",
    "\n",
    "    # Calculate loss\n",
    "    average_batch_loss = loss_fn(predicted_labels, true_labels) # [1]\n",
    "    test_loss_history.append(average_batch_loss.data[0])  # Variable -> Tensor\n",
    "\n",
    "test_loss = np.mean(test_loss_history)\n",
    "log_str = 'Test loss: {:.3f}\\n'.format(test_loss)\n",
    "print(log_str)"
   ]
  }
 ],
 "metadata": {
  "anaconda-cloud": {},
  "kernelspec": {
   "display_name": "Python [conda env:mldemo]",
   "language": "python",
   "name": "conda-env-mldemo-py"
  },
  "language_info": {
   "codemirror_mode": {
    "name": "ipython",
    "version": 3
   },
   "file_extension": ".py",
   "mimetype": "text/x-python",
   "name": "python",
   "nbconvert_exporter": "python",
   "pygments_lexer": "ipython3",
   "version": "3.6.0"
  },
  "varInspector": {
   "cols": {
    "lenName": 16,
    "lenType": 16,
    "lenVar": 40
   },
   "kernels_config": {
    "python": {
     "delete_cmd_postfix": "",
     "delete_cmd_prefix": "del ",
     "library": "var_list.py",
     "varRefreshCmd": "print(var_dic_list())"
    },
    "r": {
     "delete_cmd_postfix": ") ",
     "delete_cmd_prefix": "rm(",
     "library": "var_list.r",
     "varRefreshCmd": "cat(var_dic_list()) "
    }
   },
   "types_to_exclude": [
    "module",
    "function",
    "builtin_function_or_method",
    "instance",
    "_Feature"
   ],
   "window_display": false
  }
 },
 "nbformat": 4,
 "nbformat_minor": 2
}
