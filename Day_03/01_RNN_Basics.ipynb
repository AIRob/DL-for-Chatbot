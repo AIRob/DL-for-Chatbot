{
 "cells": [
  {
   "cell_type": "code",
   "execution_count": 1,
   "metadata": {
    "ExecuteTime": {
     "end_time": "2017-07-30T15:59:34.141783Z",
     "start_time": "2017-07-30T15:59:33.715221Z"
    },
    "collapsed": true
   },
   "outputs": [],
   "source": [
    "import torch\n",
    "import torch.nn as nn\n",
    "from torch.autograd import Variable"
   ]
  },
  {
   "cell_type": "code",
   "execution_count": 2,
   "metadata": {
    "ExecuteTime": {
     "end_time": "2017-07-30T15:59:34.171867Z",
     "start_time": "2017-07-30T15:59:34.143322Z"
    },
    "collapsed": true
   },
   "outputs": [],
   "source": [
    "batch_size = 3\n",
    "input_length = [[2,5,3], [5,3,4]]\n",
    "input_dim = 2\n",
    "hidden_dim = 4\n",
    "num_layers = 1"
   ]
  },
  {
   "cell_type": "markdown",
   "metadata": {},
   "source": [
    "# RNN vs RNNCell\n",
    "\n",
    "|              nn.RNN              |                 nn.RNNCell                 |\n",
    "|:--------------------------------:|:------------------------------------------:|\n",
    "|       unrolling whole steps      |            unrolling single step           |\n",
    "| internally uses CuDNN => faster! | similar to TensorFlow's RNN implementation |"
   ]
  },
  {
   "cell_type": "markdown",
   "metadata": {},
   "source": [
    "## nn.RNN\n",
    "\n",
    "* Args:\n",
    "    * input_size (int)\n",
    "    * hidden_size (int)\n",
    "    \n",
    "    \n",
    "* Optional Args\n",
    "    * num_layers (int)\n",
    "    * nonlinearity (activation function; ex. nn.Tanh, nn.ReLU)\n",
    "    * bias (bool)\n",
    "    * batch_first (bool)\n",
    "    * dropout (float)\n",
    "    * bidirectional (bool)\n",
    "\n",
    "\n",
    "* inputs:\n",
    "    * input (seq_len, batch_size, input_size)\n",
    "    * h_0 (num_layers*num_directions, batch_size, hidden_size) => default: zeros\n",
    "\n",
    "\n",
    "* outputs:\n",
    "    * output (seq_len, batch_size, hidden_size* num_directions) => outputs from whole steps\n",
    "    * h_n (num_layers, num_directions, batch, hidden_size) => last output"
   ]
  },
  {
   "cell_type": "code",
   "execution_count": 3,
   "metadata": {
    "ExecuteTime": {
     "end_time": "2017-07-30T15:59:34.203877Z",
     "start_time": "2017-07-30T15:59:34.173544Z"
    }
   },
   "outputs": [
    {
     "data": {
      "text/plain": [
       "RNN(2, 4, batch_first=True)"
      ]
     },
     "execution_count": 3,
     "metadata": {},
     "output_type": "execute_result"
    }
   ],
   "source": [
    "rnn = nn.RNN(input_dim, hidden_dim, batch_first=True)\n",
    "rnn"
   ]
  },
  {
   "cell_type": "code",
   "execution_count": 4,
   "metadata": {
    "ExecuteTime": {
     "end_time": "2017-07-30T15:59:34.238659Z",
     "start_time": "2017-07-30T15:59:34.205889Z"
    },
    "scrolled": true
   },
   "outputs": [
    {
     "data": {
      "text/plain": [
       "{'_all_weights': [['weight_ih_l0',\n",
       "   'weight_hh_l0',\n",
       "   'bias_ih_l0',\n",
       "   'bias_hh_l0']],\n",
       " '_backend': <torch.nn.backends.thnn.THNNFunctionBackend at 0x1090d0780>,\n",
       " '_backward_hooks': OrderedDict(),\n",
       " '_buffers': OrderedDict(),\n",
       " '_forward_hooks': OrderedDict(),\n",
       " '_modules': OrderedDict(),\n",
       " '_parameters': OrderedDict([('weight_ih_l0', Parameter containing:\n",
       "                0.0477 -0.4365\n",
       "                0.2555  0.4368\n",
       "                0.3737 -0.1157\n",
       "               -0.1752  0.3154\n",
       "               [torch.FloatTensor of size 4x2]),\n",
       "              ('weight_hh_l0', Parameter containing:\n",
       "                0.2164  0.2660  0.4514  0.4022\n",
       "               -0.3634  0.4438  0.4042 -0.1533\n",
       "                0.4506 -0.1276  0.4494 -0.1418\n",
       "                0.4890 -0.1199 -0.1734 -0.2589\n",
       "               [torch.FloatTensor of size 4x4]),\n",
       "              ('bias_ih_l0', Parameter containing:\n",
       "               -0.1168\n",
       "                0.3833\n",
       "               -0.3831\n",
       "                0.1456\n",
       "               [torch.FloatTensor of size 4]),\n",
       "              ('bias_hh_l0', Parameter containing:\n",
       "                0.3138\n",
       "               -0.4160\n",
       "                0.4109\n",
       "                0.4011\n",
       "               [torch.FloatTensor of size 4])]),\n",
       " 'batch_first': True,\n",
       " 'bias': True,\n",
       " 'bidirectional': False,\n",
       " 'dropout': 0,\n",
       " 'dropout_state': {},\n",
       " 'hidden_size': 4,\n",
       " 'input_size': 2,\n",
       " 'mode': 'RNN_TANH',\n",
       " 'num_layers': 1,\n",
       " 'training': True}"
      ]
     },
     "execution_count": 4,
     "metadata": {},
     "output_type": "execute_result"
    }
   ],
   "source": [
    "vars(rnn)"
   ]
  },
  {
   "cell_type": "code",
   "execution_count": 5,
   "metadata": {
    "ExecuteTime": {
     "end_time": "2017-07-30T15:59:34.315864Z",
     "start_time": "2017-07-30T15:59:34.242100Z"
    },
    "scrolled": true
   },
   "outputs": [
    {
     "name": "stdout",
     "output_type": "stream",
     "text": [
      "torch.Size([3, 5, 2]) torch.Size([1, 3, 4])\n"
     ]
    }
   ],
   "source": [
    "# inputs: (input, h_0)\n",
    "x = Variable(torch.randn([batch_size, max(input_length[0]), input_dim]))\n",
    "h_0 = Variable(torch.zeros([num_layers, batch_size, hidden_dim]))\n",
    "print(x.size(), h_0.size())"
   ]
  },
  {
   "cell_type": "code",
   "execution_count": 6,
   "metadata": {
    "ExecuteTime": {
     "end_time": "2017-07-30T15:59:34.393547Z",
     "start_time": "2017-07-30T15:59:34.323481Z"
    }
   },
   "outputs": [
    {
     "data": {
      "text/plain": [
       "(Variable containing:\n",
       " (0 ,.,.) = \n",
       "  -0.0806  0.5714  0.4102  0.5077\n",
       "   0.9465 -0.4646  0.5344 -0.5717\n",
       "  -0.0087  0.0118  0.6334  0.8715\n",
       "   0.5138  0.2963  0.0419  0.4018\n",
       "   0.7385 -0.3995  0.3720  0.3232\n",
       " \n",
       " (1 ,.,.) = \n",
       "   0.1152 -0.3016 -0.3987  0.6483\n",
       "   0.3387 -0.8053 -0.6235  0.5949\n",
       "   0.0015 -0.5674  0.1528  0.5908\n",
       "   0.5571 -0.5701  0.0896  0.2579\n",
       "   0.2509 -0.2802  0.4774  0.6495\n",
       " \n",
       " (2 ,.,.) = \n",
       "  -0.4368  0.5026 -0.2393  0.7874\n",
       "   0.3199  0.0372 -0.6229  0.2809\n",
       "   0.3174 -0.8161 -0.5950  0.6668\n",
       "  -0.4400 -0.4234 -0.3515  0.8216\n",
       "   0.0635 -0.2178 -0.3839  0.2879\n",
       " [torch.FloatTensor of size 3x5x4], Variable containing:\n",
       " (0 ,.,.) = \n",
       "   0.7385 -0.3995  0.3720  0.3232\n",
       "   0.2509 -0.2802  0.4774  0.6495\n",
       "   0.0635 -0.2178 -0.3839  0.2879\n",
       " [torch.FloatTensor of size 1x3x4])"
      ]
     },
     "execution_count": 6,
     "metadata": {},
     "output_type": "execute_result"
    }
   ],
   "source": [
    "# outputs: (output, h_n)\n",
    "assert rnn(x, h_0) == rnn(x) # default hidden_state: zeros\n",
    "rnn(x)"
   ]
  },
  {
   "cell_type": "markdown",
   "metadata": {},
   "source": [
    "## nn.LSTM\n",
    "\n",
    "* Args:\n",
    "    Same as RNN\n",
    "\n",
    "\n",
    "* inputs:\n",
    "    * input (seq_len, batch_size, input_size)\n",
    "    * (h_0, c_0) ( (num_layers*num_directions, batch_size, hidden_size), (num_layers*num_directions, batch_size, hidden_size) )\n",
    "    \n",
    "\n",
    "* outputs:\n",
    "    * output (seq_len, batch_size, hidden_size*num_directions)\n",
    "    * (h_n, c_n) ( (num_layers*num_directions, batch_size, hidden_size), (num_layers*num_directions, batch_size, hidden_size) )"
   ]
  },
  {
   "cell_type": "code",
   "execution_count": 7,
   "metadata": {
    "ExecuteTime": {
     "end_time": "2017-07-30T15:59:34.416480Z",
     "start_time": "2017-07-30T15:59:34.395585Z"
    }
   },
   "outputs": [
    {
     "data": {
      "text/plain": [
       "LSTM(2, 4, batch_first=True)"
      ]
     },
     "execution_count": 7,
     "metadata": {},
     "output_type": "execute_result"
    }
   ],
   "source": [
    "lstm = nn.LSTM(input_dim, hidden_dim, batch_first=True)\n",
    "lstm"
   ]
  },
  {
   "cell_type": "code",
   "execution_count": 8,
   "metadata": {
    "ExecuteTime": {
     "end_time": "2017-07-30T15:59:34.461029Z",
     "start_time": "2017-07-30T15:59:34.422648Z"
    },
    "scrolled": true
   },
   "outputs": [
    {
     "data": {
      "text/plain": [
       "{'_all_weights': [['weight_ih_l0',\n",
       "   'weight_hh_l0',\n",
       "   'bias_ih_l0',\n",
       "   'bias_hh_l0']],\n",
       " '_backend': <torch.nn.backends.thnn.THNNFunctionBackend at 0x1090d0780>,\n",
       " '_backward_hooks': OrderedDict(),\n",
       " '_buffers': OrderedDict(),\n",
       " '_forward_hooks': OrderedDict(),\n",
       " '_modules': OrderedDict(),\n",
       " '_parameters': OrderedDict([('weight_ih_l0', Parameter containing:\n",
       "               -0.2709 -0.4489\n",
       "               -0.1869 -0.2587\n",
       "                0.1093  0.2780\n",
       "               -0.3045 -0.3138\n",
       "                0.2527 -0.2527\n",
       "                0.2759 -0.1833\n",
       "                0.4317  0.2930\n",
       "               -0.0862  0.2169\n",
       "               -0.2793 -0.3404\n",
       "               -0.3539 -0.1586\n",
       "                0.3308  0.3165\n",
       "               -0.1210 -0.4383\n",
       "                0.4473  0.1359\n",
       "               -0.0468  0.0816\n",
       "               -0.3572 -0.4207\n",
       "               -0.4613 -0.1007\n",
       "               [torch.FloatTensor of size 16x2]),\n",
       "              ('weight_hh_l0', Parameter containing:\n",
       "                0.4584  0.3134 -0.0054 -0.2053\n",
       "                0.3019  0.2410 -0.2238 -0.1835\n",
       "                0.2644  0.2514 -0.1181 -0.3675\n",
       "               -0.0298 -0.2770 -0.1074 -0.3826\n",
       "                0.1319  0.1285  0.4671 -0.3354\n",
       "               -0.3890  0.4931 -0.1120  0.0615\n",
       "                0.2671  0.2396  0.3220  0.4778\n",
       "               -0.3258  0.2572 -0.1381  0.3889\n",
       "                0.2085  0.2638  0.1492 -0.2081\n",
       "                0.2797 -0.0053 -0.3274 -0.1267\n",
       "               -0.1640 -0.1267  0.1728 -0.3143\n",
       "                0.1370  0.3693  0.4358  0.0163\n",
       "               -0.3734 -0.4483 -0.3318  0.2829\n",
       "               -0.0847 -0.4737 -0.3671 -0.1902\n",
       "               -0.3706 -0.3398  0.0706  0.0336\n",
       "               -0.4307  0.4097  0.4851 -0.0744\n",
       "               [torch.FloatTensor of size 16x4]),\n",
       "              ('bias_ih_l0', Parameter containing:\n",
       "                0.3767\n",
       "                0.1316\n",
       "               -0.0819\n",
       "                0.0292\n",
       "               -0.3840\n",
       "               -0.4281\n",
       "               -0.3905\n",
       "                0.1456\n",
       "                0.2420\n",
       "               -0.2542\n",
       "               -0.3679\n",
       "                0.0638\n",
       "               -0.4264\n",
       "               -0.1373\n",
       "                0.0746\n",
       "                0.1938\n",
       "               [torch.FloatTensor of size 16]),\n",
       "              ('bias_hh_l0', Parameter containing:\n",
       "                0.0878\n",
       "                0.1671\n",
       "                0.0937\n",
       "                0.4636\n",
       "               -0.4264\n",
       "               -0.0330\n",
       "                0.4890\n",
       "                0.1429\n",
       "                0.2006\n",
       "               -0.3007\n",
       "               -0.3014\n",
       "               -0.3571\n",
       "                0.1446\n",
       "               -0.3419\n",
       "                0.1453\n",
       "                0.3979\n",
       "               [torch.FloatTensor of size 16])]),\n",
       " 'batch_first': True,\n",
       " 'bias': True,\n",
       " 'bidirectional': False,\n",
       " 'dropout': 0,\n",
       " 'dropout_state': {},\n",
       " 'hidden_size': 4,\n",
       " 'input_size': 2,\n",
       " 'mode': 'LSTM',\n",
       " 'num_layers': 1,\n",
       " 'training': True}"
      ]
     },
     "execution_count": 8,
     "metadata": {},
     "output_type": "execute_result"
    }
   ],
   "source": [
    "vars(lstm)"
   ]
  },
  {
   "cell_type": "code",
   "execution_count": 9,
   "metadata": {
    "ExecuteTime": {
     "end_time": "2017-07-30T15:59:34.491923Z",
     "start_time": "2017-07-30T15:59:34.466028Z"
    },
    "scrolled": true
   },
   "outputs": [
    {
     "name": "stdout",
     "output_type": "stream",
     "text": [
      "torch.Size([3, 5, 2]) torch.Size([1, 3, 4]) torch.Size([1, 3, 4])\n"
     ]
    }
   ],
   "source": [
    "# inputs: (input, (h_0, c_0))\n",
    "x = Variable(torch.randn([batch_size, max(input_length[0]), input_dim]))\n",
    "h_0 = Variable(torch.zeros([num_layers, batch_size, hidden_dim]))\n",
    "c_0 = Variable(torch.zeros([num_layers, batch_size, hidden_dim]))\n",
    "print(x.size(), h_0.size(), c_0.size())"
   ]
  },
  {
   "cell_type": "code",
   "execution_count": 10,
   "metadata": {
    "ExecuteTime": {
     "end_time": "2017-07-30T15:59:34.551528Z",
     "start_time": "2017-07-30T15:59:34.500971Z"
    }
   },
   "outputs": [
    {
     "data": {
      "text/plain": [
       "(Variable containing:\n",
       " (0 ,.,.) = \n",
       "   0.1413 -0.1147 -0.1643 -0.0261\n",
       "   0.0758 -0.1829 -0.1464 -0.1577\n",
       "   0.0350 -0.1714 -0.1701 -0.3384\n",
       "   0.0329 -0.2155 -0.1239 -0.2429\n",
       "   0.0831 -0.2252 -0.1652 -0.2530\n",
       " \n",
       " (1 ,.,.) = \n",
       "   0.1805 -0.0931 -0.2023  0.0825\n",
       "   0.1397  0.0705 -0.3338  0.0517\n",
       "   0.3162 -0.1030 -0.2764  0.0282\n",
       "   0.1159 -0.1791 -0.1993 -0.1239\n",
       "   0.1401 -0.1082 -0.3206 -0.2668\n",
       " \n",
       " (2 ,.,.) = \n",
       "   0.1474  0.0213 -0.2579  0.1579\n",
       "   0.1962  0.0346 -0.3296  0.1853\n",
       "   0.2079 -0.0936 -0.2783 -0.0278\n",
       "   0.2046 -0.0725 -0.3544 -0.0412\n",
       "   0.1711 -0.1166 -0.2978 -0.1789\n",
       " [torch.FloatTensor of size 3x5x4], (Variable containing:\n",
       "  (0 ,.,.) = \n",
       "    0.0831 -0.2252 -0.1652 -0.2530\n",
       "    0.1401 -0.1082 -0.3206 -0.2668\n",
       "    0.1711 -0.1166 -0.2978 -0.1789\n",
       "  [torch.FloatTensor of size 1x3x4], Variable containing:\n",
       "  (0 ,.,.) = \n",
       "    0.1531 -0.6141 -0.3403 -0.5543\n",
       "    0.4037 -0.2540 -0.5825 -0.4177\n",
       "    0.4052 -0.2837 -0.6384 -0.3207\n",
       "  [torch.FloatTensor of size 1x3x4]))"
      ]
     },
     "execution_count": 10,
     "metadata": {},
     "output_type": "execute_result"
    }
   ],
   "source": [
    "# outputs: (output, (h_n, c_n))\n",
    "assert lstm(x, (h_0, c_0)) == lstm(x) # default hidden_state: zeros\n",
    "lstm(x)"
   ]
  },
  {
   "cell_type": "markdown",
   "metadata": {},
   "source": [
    "## nn.RNNCell\n",
    "\n",
    "* Args:\n",
    "    * input_size (int)\n",
    "    * hidden_size (int)\n",
    "\n",
    "\n",
    "* Optional Args\n",
    "    * nonlinearity (activation function; ex. nn.Tanh, nn.ReLU)\n",
    "    * bias (bool)\n",
    "    \n",
    "    \n",
    "* inputs:\n",
    "    * input (batch_size, input_size)\n",
    "    * hidden (batch_size, hidden_size)\n",
    "\n",
    "\n",
    "* outputs:\n",
    "    * h (batch, hidden_size) => current output"
   ]
  },
  {
   "cell_type": "code",
   "execution_count": 11,
   "metadata": {
    "ExecuteTime": {
     "end_time": "2017-07-30T15:59:34.588719Z",
     "start_time": "2017-07-30T15:59:34.559753Z"
    }
   },
   "outputs": [
    {
     "data": {
      "text/plain": [
       "RNNCell(2, 4)"
      ]
     },
     "execution_count": 11,
     "metadata": {},
     "output_type": "execute_result"
    }
   ],
   "source": [
    "rnncell = nn.RNNCell(input_dim, hidden_dim)\n",
    "rnncell"
   ]
  },
  {
   "cell_type": "code",
   "execution_count": 12,
   "metadata": {
    "ExecuteTime": {
     "end_time": "2017-07-30T15:59:34.643676Z",
     "start_time": "2017-07-30T15:59:34.603253Z"
    },
    "scrolled": false
   },
   "outputs": [
    {
     "data": {
      "text/plain": [
       "{'_backend': <torch.nn.backends.thnn.THNNFunctionBackend at 0x1090d0780>,\n",
       " '_backward_hooks': OrderedDict(),\n",
       " '_buffers': OrderedDict(),\n",
       " '_forward_hooks': OrderedDict(),\n",
       " '_modules': OrderedDict(),\n",
       " '_parameters': OrderedDict([('weight_ih', Parameter containing:\n",
       "                0.1422 -0.0114\n",
       "                0.0492  0.0542\n",
       "                0.3163  0.1715\n",
       "               -0.2685 -0.2623\n",
       "               [torch.FloatTensor of size 4x2]),\n",
       "              ('weight_hh', Parameter containing:\n",
       "               -0.4082 -0.0328  0.4141  0.3738\n",
       "               -0.1749 -0.4950 -0.1493 -0.3171\n",
       "               -0.4664 -0.0455  0.3793  0.4158\n",
       "                0.4268 -0.1448 -0.2446 -0.4422\n",
       "               [torch.FloatTensor of size 4x4]),\n",
       "              ('bias_ih', Parameter containing:\n",
       "                0.3230\n",
       "                0.4584\n",
       "                0.4306\n",
       "                0.3714\n",
       "               [torch.FloatTensor of size 4]),\n",
       "              ('bias_hh', Parameter containing:\n",
       "               -0.0188\n",
       "                0.1954\n",
       "                0.3241\n",
       "                0.3970\n",
       "               [torch.FloatTensor of size 4])]),\n",
       " 'bias': True,\n",
       " 'hidden_size': 4,\n",
       " 'input_size': 2,\n",
       " 'nonlinearity': 'tanh',\n",
       " 'training': True}"
      ]
     },
     "execution_count": 12,
     "metadata": {},
     "output_type": "execute_result"
    }
   ],
   "source": [
    "vars(rnncell)"
   ]
  },
  {
   "cell_type": "code",
   "execution_count": 13,
   "metadata": {
    "ExecuteTime": {
     "end_time": "2017-07-30T15:59:34.709983Z",
     "start_time": "2017-07-30T15:59:34.646060Z"
    },
    "scrolled": true
   },
   "outputs": [
    {
     "data": {
      "text/plain": [
       "[Variable containing:\n",
       "  0.2853  0.5973  0.6975  0.5364\n",
       "  0.3273  0.5900  0.7028  0.5684\n",
       "  0.3868  0.5996  0.7596  0.5069\n",
       " [torch.FloatTensor of size 3x4], Variable containing:\n",
       "  0.4475 -0.0430  0.5622  0.6679\n",
       "  0.5876  0.0053  0.7822  0.4333\n",
       "  0.5635 -0.0311  0.7148  0.5793\n",
       " [torch.FloatTensor of size 3x4], Variable containing:\n",
       "  0.6099  0.3228  0.8517  0.3340\n",
       "  0.4487  0.2991  0.7331  0.5217\n",
       "  0.5437  0.3630  0.8779  0.0896\n",
       " [torch.FloatTensor of size 3x4], Variable containing:\n",
       "  0.5700  0.0596  0.6230  0.7865\n",
       "  0.4346  0.1853  0.7587  0.3493\n",
       "  0.3037  0.2479  0.6677  0.5082\n",
       " [torch.FloatTensor of size 3x4], Variable containing:\n",
       "  0.4834  0.1054  0.5993  0.7135\n",
       "  0.5092  0.2283  0.7026  0.6245\n",
       "  0.5871  0.2827  0.8744  0.1081\n",
       " [torch.FloatTensor of size 3x4]]"
      ]
     },
     "execution_count": 13,
     "metadata": {},
     "output_type": "execute_result"
    }
   ],
   "source": [
    "# input\n",
    "x = Variable(torch.randn([batch_size, max(input_length[0]), input_dim]))\n",
    "\n",
    "# initial hidden\n",
    "h = Variable(torch.zeros(batch_size, hidden_dim))\n",
    "\n",
    "outputs = []\n",
    "for i in range(max(input_length[0])):\n",
    "    h = rnncell(x[:, i, :], h)\n",
    "    outputs.append(h)\n",
    "\n",
    "outputs"
   ]
  },
  {
   "cell_type": "markdown",
   "metadata": {},
   "source": [
    "## nn.LSTMCell\n",
    "\n",
    "* Args:\n",
    "    * input_size (int)\n",
    "    * hidden_size (int)\n",
    "\n",
    "\n",
    "* Optional Args\n",
    "    * bias (bool)\n",
    "    \n",
    "    \n",
    "* inputs:\n",
    "    * input (batch_size, input_size)\n",
    "    * (h_0, c_0) ( (batch_size, hidden_size), (batch_size, hidden_size) )\n",
    "\n",
    "\n",
    "* outputs:\n",
    "    * (h_1, c_1) ( (batch_size, hidden_size), (batch_size, hidden_size) ) => current output"
   ]
  },
  {
   "cell_type": "code",
   "execution_count": 14,
   "metadata": {
    "ExecuteTime": {
     "end_time": "2017-07-30T15:59:34.752071Z",
     "start_time": "2017-07-30T15:59:34.714111Z"
    }
   },
   "outputs": [
    {
     "data": {
      "text/plain": [
       "LSTMCell(2, 4)"
      ]
     },
     "execution_count": 14,
     "metadata": {},
     "output_type": "execute_result"
    }
   ],
   "source": [
    "lstmcell = nn.LSTMCell(input_dim, hidden_dim)\n",
    "lstmcell"
   ]
  },
  {
   "cell_type": "code",
   "execution_count": 15,
   "metadata": {
    "ExecuteTime": {
     "end_time": "2017-07-30T15:59:34.793706Z",
     "start_time": "2017-07-30T15:59:34.758753Z"
    },
    "scrolled": false
   },
   "outputs": [
    {
     "data": {
      "text/plain": [
       "{'_backend': <torch.nn.backends.thnn.THNNFunctionBackend at 0x1090d0780>,\n",
       " '_backward_hooks': OrderedDict(),\n",
       " '_buffers': OrderedDict(),\n",
       " '_forward_hooks': OrderedDict(),\n",
       " '_modules': OrderedDict(),\n",
       " '_parameters': OrderedDict([('weight_ih', Parameter containing:\n",
       "                0.3406 -0.1945\n",
       "               -0.1697 -0.0063\n",
       "               -0.3277  0.3388\n",
       "               -0.1071 -0.4594\n",
       "                0.4088  0.0952\n",
       "               -0.2136 -0.1484\n",
       "               -0.4779  0.4432\n",
       "                0.0056 -0.2826\n",
       "                0.1696  0.4416\n",
       "                0.2224 -0.0016\n",
       "                0.4745 -0.2597\n",
       "                0.1774 -0.3403\n",
       "                0.3643  0.3717\n",
       "                0.3297  0.2010\n",
       "                0.1882  0.0392\n",
       "               -0.0858 -0.2674\n",
       "               [torch.FloatTensor of size 16x2]),\n",
       "              ('weight_hh', Parameter containing:\n",
       "               -0.1149 -0.3341  0.2543  0.2980\n",
       "               -0.3893  0.3343  0.1346 -0.2728\n",
       "               -0.2206 -0.2333 -0.1868  0.4417\n",
       "                0.4894  0.3637  0.4067 -0.1727\n",
       "                0.4397  0.1955 -0.4369 -0.2824\n",
       "                0.1304 -0.2758  0.2983 -0.1243\n",
       "                0.3042  0.0566  0.2900  0.3533\n",
       "               -0.0373 -0.3831 -0.3169  0.1660\n",
       "               -0.0471  0.2672 -0.4048  0.2593\n",
       "               -0.2534 -0.4746 -0.4747  0.1584\n",
       "                0.4103  0.0621 -0.4380  0.4284\n",
       "                0.1798 -0.3601  0.2862 -0.1089\n",
       "               -0.3752  0.4125 -0.0981 -0.2569\n",
       "               -0.2913 -0.2289  0.1000  0.3455\n",
       "                0.0627 -0.3609  0.0223 -0.0838\n",
       "                0.1410 -0.2265  0.0410 -0.1231\n",
       "               [torch.FloatTensor of size 16x4]),\n",
       "              ('bias_ih', Parameter containing:\n",
       "                0.1415\n",
       "                0.1255\n",
       "               -0.4223\n",
       "               -0.2448\n",
       "                0.1836\n",
       "               -0.4328\n",
       "                0.2817\n",
       "               -0.4483\n",
       "                0.4846\n",
       "                0.4814\n",
       "               -0.4181\n",
       "               -0.2772\n",
       "                0.0498\n",
       "               -0.4902\n",
       "                0.1949\n",
       "               -0.4184\n",
       "               [torch.FloatTensor of size 16]),\n",
       "              ('bias_hh', Parameter containing:\n",
       "                0.4864\n",
       "                0.1837\n",
       "                0.1544\n",
       "               -0.1890\n",
       "                0.0524\n",
       "                0.4808\n",
       "                0.0109\n",
       "               -0.4978\n",
       "                0.2240\n",
       "               -0.2557\n",
       "                0.3722\n",
       "                0.2025\n",
       "                0.2507\n",
       "                0.3989\n",
       "               -0.2485\n",
       "                0.2002\n",
       "               [torch.FloatTensor of size 16])]),\n",
       " 'bias': True,\n",
       " 'hidden_size': 4,\n",
       " 'input_size': 2,\n",
       " 'training': True}"
      ]
     },
     "execution_count": 15,
     "metadata": {},
     "output_type": "execute_result"
    }
   ],
   "source": [
    "vars(lstmcell)"
   ]
  },
  {
   "cell_type": "code",
   "execution_count": 16,
   "metadata": {
    "ExecuteTime": {
     "end_time": "2017-07-30T15:59:34.849714Z",
     "start_time": "2017-07-30T15:59:34.799045Z"
    },
    "scrolled": false
   },
   "outputs": [
    {
     "data": {
      "text/plain": [
       "[(Variable containing:\n",
       "   0.2027  0.0043 -0.1469 -0.0637\n",
       "   0.1030  0.0821  0.0680  0.0982\n",
       "   0.3911  0.1224 -0.0046 -0.0310\n",
       "  [torch.FloatTensor of size 3x4], Variable containing:\n",
       "   0.3808  0.0098 -0.3388 -0.1540\n",
       "   0.2036  0.1805  0.1373  0.1944\n",
       "   0.5825  0.2047 -0.0085 -0.0900\n",
       "  [torch.FloatTensor of size 3x4]), (Variable containing:\n",
       "   0.5542  0.1539 -0.0017 -0.0301\n",
       "   0.0017  0.0428  0.0570  0.1746\n",
       "   0.0129 -0.0097 -0.0314  0.0871\n",
       "  [torch.FloatTensor of size 3x4], Variable containing:\n",
       "   0.9116  0.2515 -0.0030 -0.0857\n",
       "   0.0047  0.1236  0.1313  0.3173\n",
       "   0.0491 -0.0396 -0.0804  0.1453\n",
       "  [torch.FloatTensor of size 3x4]), (Variable containing:\n",
       "   0.6459  0.1116  0.0093 -0.0447\n",
       "   0.2258  0.1078  0.0807  0.0544\n",
       "   0.0288  0.0293  0.0122  0.1176\n",
       "  [torch.FloatTensor of size 3x4], Variable containing:\n",
       "   1.2309  0.1918  0.0172 -0.1420\n",
       "   0.4170  0.2161  0.1650  0.1216\n",
       "   0.0711  0.0764  0.0269  0.2199\n",
       "  [torch.FloatTensor of size 3x4]), (Variable containing:\n",
       "   0.6643  0.1644  0.1189  0.0542\n",
       "   0.3773  0.0695  0.0071 -0.0343\n",
       "   0.0805  0.0621  0.0463  0.1129\n",
       "  [torch.FloatTensor of size 3x4], Variable containing:\n",
       "   1.6208  0.2787  0.2032  0.1307\n",
       "   0.7092  0.1425  0.0148 -0.0862\n",
       "   0.1813  0.1504  0.1000  0.2202\n",
       "  [torch.FloatTensor of size 3x4]), (Variable containing:\n",
       "   0.4557  0.1155  0.1233  0.2137\n",
       "   0.4057  0.0589  0.0157 -0.0293\n",
       "   0.3102  0.0833  0.0058 -0.0124\n",
       "  [torch.FloatTensor of size 3x4], Variable containing:\n",
       "   1.3837  0.2515  0.2360  0.4331\n",
       "   0.8654  0.1280  0.0318 -0.0673\n",
       "   0.5662  0.1681  0.0120 -0.0302\n",
       "  [torch.FloatTensor of size 3x4])]"
      ]
     },
     "execution_count": 16,
     "metadata": {},
     "output_type": "execute_result"
    }
   ],
   "source": [
    "# input\n",
    "x = Variable(torch.randn([batch_size, max(input_length[0]), input_dim]))\n",
    "\n",
    "# initial hidden\n",
    "h = Variable(torch.zeros(batch_size, hidden_dim))\n",
    "c = Variable(torch.zeros(batch_size, hidden_dim))\n",
    "\n",
    "outputs = []\n",
    "for i in range(max(input_length[0])):\n",
    "    h, c = lstmcell(x[:, i, :], (h, c))\n",
    "    outputs.append((h, c))\n",
    "\n",
    "outputs"
   ]
  },
  {
   "cell_type": "markdown",
   "metadata": {},
   "source": [
    "# (Naive) Speed Comparison between LSTM vs LSTMCell"
   ]
  },
  {
   "cell_type": "code",
   "execution_count": 17,
   "metadata": {
    "ExecuteTime": {
     "end_time": "2017-07-30T15:59:34.892334Z",
     "start_time": "2017-07-30T15:59:34.859230Z"
    },
    "collapsed": true
   },
   "outputs": [],
   "source": [
    "from time import time"
   ]
  },
  {
   "cell_type": "code",
   "execution_count": 18,
   "metadata": {
    "ExecuteTime": {
     "end_time": "2017-07-30T15:59:34.927962Z",
     "start_time": "2017-07-30T15:59:34.895129Z"
    },
    "collapsed": true
   },
   "outputs": [],
   "source": [
    "batch_size = 30\n",
    "input_dim = 40\n",
    "hidden_dim = 40\n",
    "max_seq_len = 50\n",
    "num_layers = 1"
   ]
  },
  {
   "cell_type": "code",
   "execution_count": 19,
   "metadata": {
    "ExecuteTime": {
     "end_time": "2017-07-30T15:59:34.964118Z",
     "start_time": "2017-07-30T15:59:34.932185Z"
    },
    "collapsed": true
   },
   "outputs": [],
   "source": [
    "lstm = nn.LSTM(input_dim, hidden_dim, batch_first=True)\n",
    "lstmcell = lstmcell = nn.LSTMCell(input_dim, hidden_dim)"
   ]
  },
  {
   "cell_type": "markdown",
   "metadata": {},
   "source": [
    "## Feeding predefined inputs\n",
    "### - used in RNN Encoder"
   ]
  },
  {
   "cell_type": "markdown",
   "metadata": {
    "ExecuteTime": {
     "end_time": "2017-07-30T15:34:38.349961Z",
     "start_time": "2017-07-30T15:34:38.334025Z"
    }
   },
   "source": [
    "### LSTM"
   ]
  },
  {
   "cell_type": "code",
   "execution_count": 20,
   "metadata": {
    "ExecuteTime": {
     "end_time": "2017-07-30T15:59:44.462946Z",
     "start_time": "2017-07-30T15:59:34.972301Z"
    },
    "scrolled": false
   },
   "outputs": [
    {
     "name": "stdout",
     "output_type": "stream",
     "text": [
      "9.440079927444458\n"
     ]
    }
   ],
   "source": [
    "%timeit\n",
    "x = Variable(torch.randn([batch_size, max_seq_len, input_dim]))\n",
    "h_0 = Variable(torch.zeros(num_layers, batch_size, hidden_dim))\n",
    "c_0 = Variable(torch.zeros(num_layers, batch_size, hidden_dim))\n",
    "\n",
    "start = time()\n",
    "\n",
    "for _ in range(500):\n",
    "    outputs_ = lstm(x, (h_0, c_0))\n",
    "\n",
    "print(time() - start)"
   ]
  },
  {
   "cell_type": "markdown",
   "metadata": {},
   "source": [
    "### LSTMCell"
   ]
  },
  {
   "cell_type": "code",
   "execution_count": 21,
   "metadata": {
    "ExecuteTime": {
     "end_time": "2017-07-30T15:59:56.327290Z",
     "start_time": "2017-07-30T15:59:44.465242Z"
    },
    "scrolled": false
   },
   "outputs": [
    {
     "name": "stdout",
     "output_type": "stream",
     "text": [
      "11.81505012512207\n"
     ]
    }
   ],
   "source": [
    "%timeit\n",
    "x = Variable(torch.randn([batch_size, max_seq_len, input_dim]))\n",
    "\n",
    "start = time()\n",
    "\n",
    "for _ in range(500):\n",
    "    \n",
    "    h = Variable(torch.zeros(batch_size, hidden_dim))\n",
    "    c = Variable(torch.zeros(batch_size, hidden_dim))\n",
    "\n",
    "    for i in range(max_seq_len):\n",
    "        h, c = lstmcell(x[:, i, :], (h, c))\n",
    "\n",
    "print(time() - start)"
   ]
  },
  {
   "cell_type": "markdown",
   "metadata": {},
   "source": [
    "## Feeding output from last step\n",
    "### - used in RNN Decoder"
   ]
  },
  {
   "cell_type": "markdown",
   "metadata": {
    "ExecuteTime": {
     "end_time": "2017-07-30T15:34:50.622762Z",
     "start_time": "2017-07-30T15:34:50.608173Z"
    }
   },
   "source": [
    "### LSTM"
   ]
  },
  {
   "cell_type": "code",
   "execution_count": 22,
   "metadata": {
    "ExecuteTime": {
     "end_time": "2017-07-30T16:00:12.883180Z",
     "start_time": "2017-07-30T15:59:56.330050Z"
    },
    "scrolled": true
   },
   "outputs": [
    {
     "name": "stdout",
     "output_type": "stream",
     "text": [
      "16.5055410861969\n"
     ]
    }
   ],
   "source": [
    "%timeit\n",
    "x = Variable(torch.randn([batch_size, max_seq_len, input_dim]))\n",
    "\n",
    "start = time()\n",
    "\n",
    "for _ in range(500):\n",
    "    \n",
    "    h = Variable(torch.zeros(num_layers, batch_size, hidden_dim))\n",
    "    c = Variable(torch.zeros(num_layers, batch_size, hidden_dim))\n",
    "    input = x[:, 0:1, :]\n",
    "    \n",
    "    for i in range(max_seq_len):\n",
    "        output, (h, c) = lstm(input, (h, c))\n",
    "        input = output\n",
    "        \n",
    "print(time() - start)"
   ]
  },
  {
   "cell_type": "markdown",
   "metadata": {
    "ExecuteTime": {
     "end_time": "2017-07-30T15:35:01.203683Z",
     "start_time": "2017-07-30T15:35:01.183090Z"
    }
   },
   "source": [
    "### LSTMCell"
   ]
  },
  {
   "cell_type": "code",
   "execution_count": 23,
   "metadata": {
    "ExecuteTime": {
     "end_time": "2017-07-30T16:00:22.359206Z",
     "start_time": "2017-07-30T16:00:12.885302Z"
    }
   },
   "outputs": [
    {
     "name": "stdout",
     "output_type": "stream",
     "text": [
      "9.428470849990845\n"
     ]
    }
   ],
   "source": [
    "%timeit\n",
    "x = Variable(torch.randn([batch_size, max_seq_len, input_dim]))\n",
    "\n",
    "start = time()\n",
    "\n",
    "for _ in range(5000):\n",
    "    \n",
    "    h = Variable(torch.zeros(batch_size, hidden_dim))\n",
    "    c = Variable(torch.zeros(batch_size, hidden_dim))\n",
    "    input = x[:, 0, :]\n",
    "    \n",
    "    for i in range(5):\n",
    "        h, c = lstmcell(input, (h, c))\n",
    "\n",
    "print(time() - start)"
   ]
  },
  {
   "cell_type": "markdown",
   "metadata": {},
   "source": [
    "# Rule of thumbs\n",
    "## - Use RNN when Encoding\n",
    "## - Use RNNCells when decoding + (complex architecture)"
   ]
  }
 ],
 "metadata": {
  "anaconda-cloud": {},
  "kernelspec": {
   "display_name": "Python [conda env:mldemo]",
   "language": "python",
   "name": "conda-env-mldemo-py"
  },
  "language_info": {
   "codemirror_mode": {
    "name": "ipython",
    "version": 3
   },
   "file_extension": ".py",
   "mimetype": "text/x-python",
   "name": "python",
   "nbconvert_exporter": "python",
   "pygments_lexer": "ipython3",
   "version": "3.6.0"
  },
  "varInspector": {
   "cols": {
    "lenName": 16,
    "lenType": 16,
    "lenVar": 40
   },
   "kernels_config": {
    "python": {
     "delete_cmd_postfix": "",
     "delete_cmd_prefix": "del ",
     "library": "var_list.py",
     "varRefreshCmd": "print(var_dic_list())"
    },
    "r": {
     "delete_cmd_postfix": ") ",
     "delete_cmd_prefix": "rm(",
     "library": "var_list.r",
     "varRefreshCmd": "cat(var_dic_list()) "
    }
   },
   "types_to_exclude": [
    "module",
    "function",
    "builtin_function_or_method",
    "instance",
    "_Feature"
   ],
   "window_display": false
  }
 },
 "nbformat": 4,
 "nbformat_minor": 2
}
