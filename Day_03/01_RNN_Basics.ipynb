{
 "cells": [
  {
   "cell_type": "code",
   "execution_count": 1,
   "metadata": {
    "ExecuteTime": {
     "end_time": "2017-07-30T20:02:02.411933Z",
     "start_time": "2017-07-30T20:02:01.914629Z"
    },
    "collapsed": true
   },
   "outputs": [],
   "source": [
    "import torch\n",
    "import torch.nn as nn\n",
    "from torch.autograd import Variable"
   ]
  },
  {
   "cell_type": "code",
   "execution_count": 2,
   "metadata": {
    "ExecuteTime": {
     "end_time": "2017-07-30T20:02:02.439301Z",
     "start_time": "2017-07-30T20:02:02.413401Z"
    },
    "collapsed": true
   },
   "outputs": [],
   "source": [
    "batch_size = 3\n",
    "input_length = [[2,5,3], [5,3,4]]\n",
    "input_dim = 2\n",
    "hidden_dim = 4\n",
    "num_layers = 1"
   ]
  },
  {
   "cell_type": "markdown",
   "metadata": {},
   "source": [
    "# RNN vs RNNCell\n",
    "\n",
    "|              nn.RNN              |                 nn.RNNCell                 |\n",
    "|:--------------------------------:|:------------------------------------------:|\n",
    "|       unrolling whole steps      |            unrolling single step           |\n",
    "| internally uses CuDNN => faster! | similar to TensorFlow's RNN implementation |"
   ]
  },
  {
   "cell_type": "markdown",
   "metadata": {},
   "source": [
    "## nn.RNN\n",
    "\n",
    "* Args:\n",
    "    * input_size (int)\n",
    "    * hidden_size (int)\n",
    "    \n",
    "    \n",
    "* Optional Args\n",
    "    * num_layers (int)\n",
    "    * nonlinearity (activation function; ex. nn.Tanh, nn.ReLU)\n",
    "    * bias (bool)\n",
    "    * batch_first (bool)\n",
    "    * dropout (float)\n",
    "    * bidirectional (bool)\n",
    "\n",
    "\n",
    "* inputs:\n",
    "    * input (seq_len, batch_size, input_size)\n",
    "    * h_0 (num_layers*num_directions, batch_size, hidden_size) => default: zeros\n",
    "\n",
    "\n",
    "* outputs:\n",
    "    * output (seq_len, batch_size, hidden_size* num_directions) => outputs from whole steps\n",
    "    * h_n (num_layers, num_directions, batch, hidden_size) => last output"
   ]
  },
  {
   "cell_type": "code",
   "execution_count": 3,
   "metadata": {
    "ExecuteTime": {
     "end_time": "2017-07-30T20:02:02.473323Z",
     "start_time": "2017-07-30T20:02:02.440897Z"
    }
   },
   "outputs": [
    {
     "data": {
      "text/plain": [
       "RNN(2, 4, batch_first=True)"
      ]
     },
     "execution_count": 3,
     "metadata": {},
     "output_type": "execute_result"
    }
   ],
   "source": [
    "rnn = nn.RNN(input_dim, hidden_dim, batch_first=True)\n",
    "rnn"
   ]
  },
  {
   "cell_type": "code",
   "execution_count": 4,
   "metadata": {
    "ExecuteTime": {
     "end_time": "2017-07-30T20:02:02.505016Z",
     "start_time": "2017-07-30T20:02:02.475743Z"
    },
    "scrolled": true
   },
   "outputs": [
    {
     "data": {
      "text/plain": [
       "{'_all_weights': [['weight_ih_l0',\n",
       "   'weight_hh_l0',\n",
       "   'bias_ih_l0',\n",
       "   'bias_hh_l0']],\n",
       " '_backend': <torch.nn.backends.thnn.THNNFunctionBackend at 0x10cce1358>,\n",
       " '_backward_hooks': OrderedDict(),\n",
       " '_buffers': OrderedDict(),\n",
       " '_forward_hooks': OrderedDict(),\n",
       " '_modules': OrderedDict(),\n",
       " '_parameters': OrderedDict([('weight_ih_l0', Parameter containing:\n",
       "                0.1542  0.2868\n",
       "                0.4675  0.3869\n",
       "               -0.4708  0.0957\n",
       "               -0.0607 -0.3307\n",
       "               [torch.FloatTensor of size 4x2]),\n",
       "              ('weight_hh_l0', Parameter containing:\n",
       "                0.4665  0.4471 -0.1223 -0.1255\n",
       "               -0.3009  0.0404  0.3506  0.2915\n",
       "               -0.0427 -0.1958 -0.0956 -0.0010\n",
       "               -0.1599  0.1421  0.3546  0.2858\n",
       "               [torch.FloatTensor of size 4x4]),\n",
       "              ('bias_ih_l0', Parameter containing:\n",
       "               -0.4124\n",
       "                0.4614\n",
       "               -0.2966\n",
       "               -0.4744\n",
       "               [torch.FloatTensor of size 4]),\n",
       "              ('bias_hh_l0', Parameter containing:\n",
       "               -0.1544\n",
       "                0.2558\n",
       "                0.0646\n",
       "                0.4741\n",
       "               [torch.FloatTensor of size 4])]),\n",
       " 'batch_first': True,\n",
       " 'bias': True,\n",
       " 'bidirectional': False,\n",
       " 'dropout': 0,\n",
       " 'dropout_state': {},\n",
       " 'hidden_size': 4,\n",
       " 'input_size': 2,\n",
       " 'mode': 'RNN_TANH',\n",
       " 'num_layers': 1,\n",
       " 'training': True}"
      ]
     },
     "execution_count": 4,
     "metadata": {},
     "output_type": "execute_result"
    }
   ],
   "source": [
    "vars(rnn)"
   ]
  },
  {
   "cell_type": "code",
   "execution_count": 5,
   "metadata": {
    "ExecuteTime": {
     "end_time": "2017-07-30T20:02:02.544921Z",
     "start_time": "2017-07-30T20:02:02.507637Z"
    },
    "scrolled": true
   },
   "outputs": [
    {
     "name": "stdout",
     "output_type": "stream",
     "text": [
      "torch.Size([3, 5, 2]) torch.Size([1, 3, 4])\n"
     ]
    }
   ],
   "source": [
    "# inputs: (input, h_0)\n",
    "x = Variable(torch.randn([batch_size, max(input_length[0]), input_dim]))\n",
    "h_0 = Variable(torch.zeros([num_layers, batch_size, hidden_dim]))\n",
    "print(x.size(), h_0.size())"
   ]
  },
  {
   "cell_type": "code",
   "execution_count": 6,
   "metadata": {
    "ExecuteTime": {
     "end_time": "2017-07-30T20:02:02.624520Z",
     "start_time": "2017-07-30T20:02:02.547654Z"
    }
   },
   "outputs": [
    {
     "data": {
      "text/plain": [
       "(Variable containing:\n",
       " (0 ,.,.) = \n",
       "  -0.4937  0.6139 -0.1481 -0.0467\n",
       "  -0.6928  0.5946 -0.8060  0.5793\n",
       "  -0.7778 -0.1236  0.3310  0.3964\n",
       "  -0.8046  0.8517 -0.4521  0.4131\n",
       "  -0.6221  0.5989 -0.3003  0.3700\n",
       " \n",
       " (1 ,.,.) = \n",
       "  -0.1279  0.8874 -0.2820 -0.4299\n",
       "  -0.2864  0.1046  0.0895 -0.0148\n",
       "  -0.3075  0.9133 -0.5585 -0.1959\n",
       "   0.4079  0.9657 -0.8523 -0.5091\n",
       "   0.0712 -0.1737 -0.0917 -0.2649\n",
       " \n",
       " (2 ,.,.) = \n",
       "  -0.1643  0.8875 -0.3835 -0.3749\n",
       "   0.0408  0.5818  0.0137 -0.3660\n",
       "  -0.1139  0.6956 -0.3992 -0.1453\n",
       "   0.1199  0.8176 -0.3207 -0.4262\n",
       "  -0.2451  0.3560 -0.6392  0.1604\n",
       " [torch.FloatTensor of size 3x5x4], Variable containing:\n",
       " (0 ,.,.) = \n",
       "  -0.6221  0.5989 -0.3003  0.3700\n",
       "   0.0712 -0.1737 -0.0917 -0.2649\n",
       "  -0.2451  0.3560 -0.6392  0.1604\n",
       " [torch.FloatTensor of size 1x3x4])"
      ]
     },
     "execution_count": 6,
     "metadata": {},
     "output_type": "execute_result"
    }
   ],
   "source": [
    "# outputs: (output, h_n)\n",
    "assert rnn(x, h_0) == rnn(x) # default hidden_state: zeros\n",
    "rnn(x)"
   ]
  },
  {
   "cell_type": "markdown",
   "metadata": {},
   "source": [
    "## nn.LSTM\n",
    "\n",
    "* Args:\n",
    "    Same as RNN\n",
    "\n",
    "\n",
    "* inputs:\n",
    "    * input (seq_len, batch_size, input_size)\n",
    "    * (h_0, c_0) ( (num_layers*num_directions, batch_size, hidden_size), (num_layers*num_directions, batch_size, hidden_size) )\n",
    "    \n",
    "\n",
    "* outputs:\n",
    "    * output (seq_len, batch_size, hidden_size*num_directions)\n",
    "    * (h_n, c_n) ( (num_layers*num_directions, batch_size, hidden_size), (num_layers*num_directions, batch_size, hidden_size) )"
   ]
  },
  {
   "cell_type": "code",
   "execution_count": 7,
   "metadata": {
    "ExecuteTime": {
     "end_time": "2017-07-30T20:02:02.656619Z",
     "start_time": "2017-07-30T20:02:02.627283Z"
    }
   },
   "outputs": [
    {
     "data": {
      "text/plain": [
       "LSTM(2, 4, batch_first=True)"
      ]
     },
     "execution_count": 7,
     "metadata": {},
     "output_type": "execute_result"
    }
   ],
   "source": [
    "lstm = nn.LSTM(input_dim, hidden_dim, batch_first=True)\n",
    "lstm"
   ]
  },
  {
   "cell_type": "code",
   "execution_count": 8,
   "metadata": {
    "ExecuteTime": {
     "end_time": "2017-07-30T20:02:02.699734Z",
     "start_time": "2017-07-30T20:02:02.663785Z"
    },
    "scrolled": true
   },
   "outputs": [
    {
     "data": {
      "text/plain": [
       "{'_all_weights': [['weight_ih_l0',\n",
       "   'weight_hh_l0',\n",
       "   'bias_ih_l0',\n",
       "   'bias_hh_l0']],\n",
       " '_backend': <torch.nn.backends.thnn.THNNFunctionBackend at 0x10cce1358>,\n",
       " '_backward_hooks': OrderedDict(),\n",
       " '_buffers': OrderedDict(),\n",
       " '_forward_hooks': OrderedDict(),\n",
       " '_modules': OrderedDict(),\n",
       " '_parameters': OrderedDict([('weight_ih_l0', Parameter containing:\n",
       "                0.2075  0.1240\n",
       "               -0.4426 -0.1420\n",
       "                0.2059 -0.1617\n",
       "                0.0331  0.1155\n",
       "               -0.3827  0.3408\n",
       "                0.1857 -0.4769\n",
       "               -0.3418  0.1522\n",
       "                0.1211 -0.1431\n",
       "               -0.1919  0.1294\n",
       "               -0.2866  0.4115\n",
       "                0.2031  0.0550\n",
       "                0.1276 -0.3864\n",
       "                0.1753  0.4090\n",
       "               -0.4320  0.0387\n",
       "                0.4692 -0.0808\n",
       "               -0.4207 -0.4574\n",
       "               [torch.FloatTensor of size 16x2]),\n",
       "              ('weight_hh_l0', Parameter containing:\n",
       "                0.0571  0.3927 -0.4739 -0.1193\n",
       "               -0.0736  0.1575 -0.3521 -0.0864\n",
       "               -0.3123 -0.3359  0.3000  0.2761\n",
       "                0.2989 -0.4989  0.0357  0.3875\n",
       "                0.0987  0.0211 -0.4987  0.2282\n",
       "               -0.4325 -0.2033 -0.0004  0.2638\n",
       "               -0.2681 -0.3065  0.2312 -0.1636\n",
       "                0.2759  0.2450 -0.0205 -0.0746\n",
       "               -0.0971  0.0688  0.3735  0.4837\n",
       "               -0.0291  0.2682  0.3401  0.0663\n",
       "                0.2853  0.0543  0.2847 -0.4305\n",
       "                0.3690 -0.1203 -0.1846  0.0999\n",
       "                0.3878 -0.0621 -0.4206  0.2613\n",
       "                0.1389 -0.1728  0.1920 -0.1961\n",
       "                0.1114 -0.2354 -0.3972  0.0674\n",
       "                0.0022  0.2416  0.1475 -0.1023\n",
       "               [torch.FloatTensor of size 16x4]),\n",
       "              ('bias_ih_l0', Parameter containing:\n",
       "               -0.1142\n",
       "                0.3635\n",
       "               -0.2220\n",
       "               -0.3079\n",
       "                0.4298\n",
       "                0.4317\n",
       "                0.3732\n",
       "               -0.0649\n",
       "                0.3045\n",
       "                0.3704\n",
       "               -0.0493\n",
       "                0.0399\n",
       "                0.4874\n",
       "               -0.3345\n",
       "               -0.3590\n",
       "               -0.4240\n",
       "               [torch.FloatTensor of size 16]),\n",
       "              ('bias_hh_l0', Parameter containing:\n",
       "                0.1000\n",
       "                0.1539\n",
       "                0.4970\n",
       "               -0.0329\n",
       "                0.1043\n",
       "               -0.4779\n",
       "                0.0313\n",
       "                0.4512\n",
       "               -0.0753\n",
       "               -0.2838\n",
       "               -0.1350\n",
       "               -0.3933\n",
       "               -0.4311\n",
       "               -0.0579\n",
       "               -0.2610\n",
       "               -0.4364\n",
       "               [torch.FloatTensor of size 16])]),\n",
       " 'batch_first': True,\n",
       " 'bias': True,\n",
       " 'bidirectional': False,\n",
       " 'dropout': 0,\n",
       " 'dropout_state': {},\n",
       " 'hidden_size': 4,\n",
       " 'input_size': 2,\n",
       " 'mode': 'LSTM',\n",
       " 'num_layers': 1,\n",
       " 'training': True}"
      ]
     },
     "execution_count": 8,
     "metadata": {},
     "output_type": "execute_result"
    }
   ],
   "source": [
    "vars(lstm)"
   ]
  },
  {
   "cell_type": "code",
   "execution_count": 9,
   "metadata": {
    "ExecuteTime": {
     "end_time": "2017-07-30T20:02:02.738931Z",
     "start_time": "2017-07-30T20:02:02.707276Z"
    },
    "scrolled": true
   },
   "outputs": [
    {
     "name": "stdout",
     "output_type": "stream",
     "text": [
      "torch.Size([3, 5, 2]) torch.Size([1, 3, 4]) torch.Size([1, 3, 4])\n"
     ]
    }
   ],
   "source": [
    "# inputs: (input, (h_0, c_0))\n",
    "x = Variable(torch.randn([batch_size, max(input_length[0]), input_dim]))\n",
    "h_0 = Variable(torch.zeros([num_layers, batch_size, hidden_dim]))\n",
    "c_0 = Variable(torch.zeros([num_layers, batch_size, hidden_dim]))\n",
    "print(x.size(), h_0.size(), c_0.size())"
   ]
  },
  {
   "cell_type": "code",
   "execution_count": 10,
   "metadata": {
    "ExecuteTime": {
     "end_time": "2017-07-30T20:02:02.778434Z",
     "start_time": "2017-07-30T20:02:02.740722Z"
    }
   },
   "outputs": [
    {
     "data": {
      "text/plain": [
       "(Variable containing:\n",
       " (0 ,.,.) = \n",
       "   0.0980  0.1053 -0.0314 -0.0607\n",
       "   0.0346 -0.0967 -0.0848 -0.0226\n",
       "   0.0642 -0.0468 -0.0770 -0.0332\n",
       "   0.0911  0.0320 -0.0814 -0.0897\n",
       "   0.0938  0.0322 -0.1014 -0.0860\n",
       " \n",
       " (1 ,.,.) = \n",
       "   0.0345 -0.0157 -0.0198 -0.0285\n",
       "  -0.0534 -0.0918  0.0209  0.0170\n",
       "  -0.0201 -0.1370 -0.0198  0.0058\n",
       "   0.0136 -0.0286  0.0665 -0.0239\n",
       "   0.0149 -0.1291 -0.0229 -0.0558\n",
       " \n",
       " (2 ,.,.) = \n",
       "   0.0349 -0.0071 -0.0059 -0.0305\n",
       "  -0.0463 -0.0324  0.1087 -0.0223\n",
       "   0.0213 -0.0644 -0.0057 -0.0642\n",
       "   0.0527 -0.0527 -0.0573 -0.0716\n",
       "   0.0659 -0.0081 -0.0125 -0.0426\n",
       " [torch.FloatTensor of size 3x5x4], (Variable containing:\n",
       "  (0 ,.,.) = \n",
       "    0.0938  0.0322 -0.1014 -0.0860\n",
       "    0.0149 -0.1291 -0.0229 -0.0558\n",
       "    0.0659 -0.0081 -0.0125 -0.0426\n",
       "  [torch.FloatTensor of size 1x3x4], Variable containing:\n",
       "  (0 ,.,.) = \n",
       "    0.2556  0.0605 -0.4365 -0.1640\n",
       "    0.0391 -0.3420 -0.0614 -0.1318\n",
       "    0.1007 -0.0275 -0.0259 -0.3034\n",
       "  [torch.FloatTensor of size 1x3x4]))"
      ]
     },
     "execution_count": 10,
     "metadata": {},
     "output_type": "execute_result"
    }
   ],
   "source": [
    "# outputs: (output, (h_n, c_n))\n",
    "assert lstm(x, (h_0, c_0)) == lstm(x) # default hidden_state: zeros\n",
    "lstm(x)"
   ]
  },
  {
   "cell_type": "markdown",
   "metadata": {},
   "source": [
    "## nn.RNNCell\n",
    "\n",
    "* Args:\n",
    "    * input_size (int)\n",
    "    * hidden_size (int)\n",
    "\n",
    "\n",
    "* Optional Args\n",
    "    * nonlinearity (activation function; ex. nn.Tanh, nn.ReLU)\n",
    "    * bias (bool)\n",
    "    \n",
    "    \n",
    "* inputs:\n",
    "    * input (batch_size, input_size)\n",
    "    * hidden (batch_size, hidden_size)\n",
    "\n",
    "\n",
    "* outputs:\n",
    "    * h (batch, hidden_size) => current output"
   ]
  },
  {
   "cell_type": "code",
   "execution_count": 11,
   "metadata": {
    "ExecuteTime": {
     "end_time": "2017-07-30T20:02:02.834450Z",
     "start_time": "2017-07-30T20:02:02.781821Z"
    }
   },
   "outputs": [
    {
     "data": {
      "text/plain": [
       "RNNCell(2, 4)"
      ]
     },
     "execution_count": 11,
     "metadata": {},
     "output_type": "execute_result"
    }
   ],
   "source": [
    "rnncell = nn.RNNCell(input_dim, hidden_dim)\n",
    "rnncell"
   ]
  },
  {
   "cell_type": "code",
   "execution_count": 12,
   "metadata": {
    "ExecuteTime": {
     "end_time": "2017-07-30T20:02:02.900609Z",
     "start_time": "2017-07-30T20:02:02.848642Z"
    },
    "scrolled": false
   },
   "outputs": [
    {
     "data": {
      "text/plain": [
       "{'_backend': <torch.nn.backends.thnn.THNNFunctionBackend at 0x10cce1358>,\n",
       " '_backward_hooks': OrderedDict(),\n",
       " '_buffers': OrderedDict(),\n",
       " '_forward_hooks': OrderedDict(),\n",
       " '_modules': OrderedDict(),\n",
       " '_parameters': OrderedDict([('weight_ih', Parameter containing:\n",
       "                0.0462 -0.4683\n",
       "                0.3904  0.3451\n",
       "                0.4196  0.3587\n",
       "               -0.0410  0.4752\n",
       "               [torch.FloatTensor of size 4x2]),\n",
       "              ('weight_hh', Parameter containing:\n",
       "               -0.4353  0.3403  0.3750  0.2516\n",
       "                0.3241 -0.2271 -0.0170  0.1571\n",
       "               -0.0019 -0.2814 -0.0746  0.0587\n",
       "               -0.1815 -0.0939  0.2721 -0.3193\n",
       "               [torch.FloatTensor of size 4x4]),\n",
       "              ('bias_ih', Parameter containing:\n",
       "                0.4209\n",
       "                0.0529\n",
       "               -0.2916\n",
       "                0.2168\n",
       "               [torch.FloatTensor of size 4]),\n",
       "              ('bias_hh', Parameter containing:\n",
       "                0.1012\n",
       "               -0.1058\n",
       "               -0.4751\n",
       "                0.0169\n",
       "               [torch.FloatTensor of size 4])]),\n",
       " 'bias': True,\n",
       " 'hidden_size': 4,\n",
       " 'input_size': 2,\n",
       " 'nonlinearity': 'tanh',\n",
       " 'training': True}"
      ]
     },
     "execution_count": 12,
     "metadata": {},
     "output_type": "execute_result"
    }
   ],
   "source": [
    "vars(rnncell)"
   ]
  },
  {
   "cell_type": "code",
   "execution_count": 13,
   "metadata": {
    "ExecuteTime": {
     "end_time": "2017-07-30T20:02:02.957101Z",
     "start_time": "2017-07-30T20:02:02.903418Z"
    },
    "scrolled": true
   },
   "outputs": [
    {
     "data": {
      "text/plain": [
       "[Variable containing:\n",
       "  0.4928  0.4206 -0.2249  0.2194\n",
       "  0.5528 -0.5719 -0.8863  0.1242\n",
       "  0.9087 -0.5160 -0.8612 -0.6502\n",
       " [torch.FloatTensor of size 3x4], Variable containing:\n",
       " -0.6993  0.8970  0.5518  0.8582\n",
       "  0.3512 -0.7760 -0.9596 -0.6016\n",
       " -0.3001  0.2738 -0.5236 -0.1354\n",
       " [torch.FloatTensor of size 3x4], Variable containing:\n",
       "  0.8768  0.1437 -0.4419  0.3393\n",
       "  0.0924  0.1465 -0.4722 -0.3160\n",
       "  0.6768 -0.3463 -0.7402 -0.1467\n",
       " [torch.FloatTensor of size 3x4], Variable containing:\n",
       " -0.6900  0.7996  0.1189  0.6671\n",
       "  0.4396  0.2118 -0.4229 -0.0176\n",
       " -0.7075  0.3605 -0.4519  0.5858\n",
       " [torch.FloatTensor of size 3x4], Variable containing:\n",
       "  0.8538 -0.1093 -0.6029  0.1427\n",
       "  0.0054 -0.0776 -0.7328  0.2528\n",
       "  0.3136  0.0215 -0.4674  0.5588\n",
       " [torch.FloatTensor of size 3x4]]"
      ]
     },
     "execution_count": 13,
     "metadata": {},
     "output_type": "execute_result"
    }
   ],
   "source": [
    "# input\n",
    "x = Variable(torch.randn([batch_size, max(input_length[0]), input_dim]))\n",
    "\n",
    "# initial hidden\n",
    "h = Variable(torch.zeros(batch_size, hidden_dim))\n",
    "\n",
    "outputs = []\n",
    "for i in range(max(input_length[0])):\n",
    "    h = rnncell(x[:, i, :], h)\n",
    "    outputs.append(h)\n",
    "\n",
    "outputs"
   ]
  },
  {
   "cell_type": "markdown",
   "metadata": {},
   "source": [
    "## nn.LSTMCell\n",
    "\n",
    "* Args:\n",
    "    * input_size (int)\n",
    "    * hidden_size (int)\n",
    "\n",
    "\n",
    "* Optional Args\n",
    "    * bias (bool)\n",
    "    \n",
    "    \n",
    "* inputs:\n",
    "    * input (batch_size, input_size)\n",
    "    * (h_0, c_0) ( (batch_size, hidden_size), (batch_size, hidden_size) )\n",
    "\n",
    "\n",
    "* outputs:\n",
    "    * (h_1, c_1) ( (batch_size, hidden_size), (batch_size, hidden_size) ) => current output"
   ]
  },
  {
   "cell_type": "code",
   "execution_count": 14,
   "metadata": {
    "ExecuteTime": {
     "end_time": "2017-07-30T20:02:02.977813Z",
     "start_time": "2017-07-30T20:02:02.959528Z"
    }
   },
   "outputs": [
    {
     "data": {
      "text/plain": [
       "LSTMCell(2, 4)"
      ]
     },
     "execution_count": 14,
     "metadata": {},
     "output_type": "execute_result"
    }
   ],
   "source": [
    "lstmcell = nn.LSTMCell(input_dim, hidden_dim)\n",
    "lstmcell"
   ]
  },
  {
   "cell_type": "code",
   "execution_count": 15,
   "metadata": {
    "ExecuteTime": {
     "end_time": "2017-07-30T20:02:03.025788Z",
     "start_time": "2017-07-30T20:02:02.981596Z"
    },
    "scrolled": false
   },
   "outputs": [
    {
     "data": {
      "text/plain": [
       "{'_backend': <torch.nn.backends.thnn.THNNFunctionBackend at 0x10cce1358>,\n",
       " '_backward_hooks': OrderedDict(),\n",
       " '_buffers': OrderedDict(),\n",
       " '_forward_hooks': OrderedDict(),\n",
       " '_modules': OrderedDict(),\n",
       " '_parameters': OrderedDict([('weight_ih', Parameter containing:\n",
       "                0.2900 -0.4561\n",
       "                0.0900 -0.0536\n",
       "               -0.3224  0.1832\n",
       "               -0.3194 -0.2830\n",
       "                0.4909 -0.2421\n",
       "                0.3469 -0.2925\n",
       "                0.3753  0.4415\n",
       "               -0.4281 -0.0260\n",
       "                0.3189  0.1862\n",
       "                0.3742  0.3724\n",
       "                0.1882  0.0592\n",
       "                0.3040 -0.4041\n",
       "               -0.4183 -0.4442\n",
       "               -0.0532 -0.0383\n",
       "                0.4141 -0.4651\n",
       "               -0.1902  0.3165\n",
       "               [torch.FloatTensor of size 16x2]),\n",
       "              ('weight_hh', Parameter containing:\n",
       "                0.1674 -0.4753  0.4099 -0.4182\n",
       "               -0.2049  0.2616  0.1919 -0.2565\n",
       "                0.0788  0.3431  0.4055 -0.3193\n",
       "                0.1418 -0.1371  0.1060  0.3809\n",
       "               -0.0828 -0.4493 -0.3244 -0.0245\n",
       "                0.1652 -0.4085 -0.4333  0.3992\n",
       "                0.1086  0.2182 -0.2030  0.3219\n",
       "               -0.3988 -0.3542  0.2829  0.1497\n",
       "                0.1538  0.2497  0.1175 -0.3965\n",
       "                0.0811 -0.3884  0.3927 -0.3858\n",
       "               -0.1480  0.4007  0.4437 -0.0906\n",
       "                0.0107 -0.2891 -0.0782  0.1205\n",
       "                0.1799  0.4462 -0.0933  0.3116\n",
       "                0.4718 -0.4611  0.4370 -0.1776\n",
       "                0.3851 -0.2444  0.2449  0.3638\n",
       "               -0.4120 -0.1597  0.0105  0.0265\n",
       "               [torch.FloatTensor of size 16x4]),\n",
       "              ('bias_ih', Parameter containing:\n",
       "                0.2169\n",
       "                0.0235\n",
       "               -0.0805\n",
       "               -0.1246\n",
       "               -0.2823\n",
       "                0.0637\n",
       "                0.2286\n",
       "                0.2639\n",
       "               -0.0699\n",
       "                0.0761\n",
       "               -0.2997\n",
       "               -0.3691\n",
       "               -0.0893\n",
       "               -0.0008\n",
       "                0.3042\n",
       "                0.1013\n",
       "               [torch.FloatTensor of size 16]),\n",
       "              ('bias_hh', Parameter containing:\n",
       "               -0.2699\n",
       "                0.4636\n",
       "               -0.2322\n",
       "               -0.0021\n",
       "               -0.2158\n",
       "               -0.0250\n",
       "               -0.3375\n",
       "                0.3101\n",
       "               -0.0963\n",
       "               -0.2623\n",
       "               -0.1726\n",
       "               -0.2195\n",
       "               -0.0612\n",
       "               -0.4193\n",
       "                0.2691\n",
       "                0.3694\n",
       "               [torch.FloatTensor of size 16])]),\n",
       " 'bias': True,\n",
       " 'hidden_size': 4,\n",
       " 'input_size': 2,\n",
       " 'training': True}"
      ]
     },
     "execution_count": 15,
     "metadata": {},
     "output_type": "execute_result"
    }
   ],
   "source": [
    "vars(lstmcell)"
   ]
  },
  {
   "cell_type": "code",
   "execution_count": 16,
   "metadata": {
    "ExecuteTime": {
     "end_time": "2017-07-30T20:02:03.083541Z",
     "start_time": "2017-07-30T20:02:03.028320Z"
    },
    "scrolled": false
   },
   "outputs": [
    {
     "data": {
      "text/plain": [
       "[(Variable containing:\n",
       "   0.0239  0.0653 -0.0766 -0.1305\n",
       "  -0.0394 -0.0399 -0.1233 -0.2497\n",
       "   0.0266  0.0803 -0.0728 -0.1402\n",
       "  [torch.FloatTensor of size 3x4], Variable containing:\n",
       "   0.0717  0.1722 -0.1206 -0.2100\n",
       "  -0.0871 -0.1005 -0.2579 -0.3753\n",
       "   0.0849  0.2139 -0.1184 -0.2210\n",
       "  [torch.FloatTensor of size 3x4]), (Variable containing:\n",
       "  -0.1323 -0.1289 -0.1874 -0.2948\n",
       "  -0.0244 -0.0166 -0.1732 -0.3553\n",
       "  -0.0934 -0.0941 -0.1721 -0.1685\n",
       "  [torch.FloatTensor of size 3x4], Variable containing:\n",
       "  -0.2126 -0.3268 -0.3410 -0.5166\n",
       "  -0.0610 -0.0423 -0.3720 -0.5718\n",
       "  -0.1590 -0.2392 -0.2537 -0.3164\n",
       "  [torch.FloatTensor of size 3x4]), (Variable containing:\n",
       "  -0.0877 -0.1197 -0.2127 -0.3029\n",
       "   0.0088  0.0429 -0.1944 -0.3726\n",
       "  -0.1382 -0.1583 -0.2033 -0.3050\n",
       "  [torch.FloatTensor of size 3x4], Variable containing:\n",
       "  -0.1927 -0.3154 -0.3559 -0.5410\n",
       "   0.0256  0.1121 -0.4053 -0.6216\n",
       "  -0.2564 -0.4212 -0.3663 -0.5253\n",
       "  [torch.FloatTensor of size 3x4]), (Variable containing:\n",
       "   0.0350  0.0593 -0.2094 -0.1713\n",
       "   0.0508  0.0428 -0.2242 -0.2017\n",
       "  -0.0987 -0.1326 -0.2011 -0.4292\n",
       "  [torch.FloatTensor of size 3x4], Variable containing:\n",
       "   0.1437  0.1629 -0.2999 -0.3070\n",
       "   0.1309  0.1131 -0.3223 -0.3941\n",
       "  -0.2126 -0.3467 -0.4490 -0.7287\n",
       "  [torch.FloatTensor of size 3x4]), (Variable containing:\n",
       "  -0.1835 -0.1583 -0.2301 -0.3009\n",
       "   0.0758  0.0205 -0.2029 -0.0702\n",
       "  -0.2575 -0.2391 -0.2426 -0.2392\n",
       "  [torch.FloatTensor of size 3x4], Variable containing:\n",
       "  -0.2664 -0.4117 -0.4078 -0.5620\n",
       "   0.1842  0.0549 -0.2607 -0.1460\n",
       "  -0.4235 -0.6498 -0.3456 -0.5054\n",
       "  [torch.FloatTensor of size 3x4])]"
      ]
     },
     "execution_count": 16,
     "metadata": {},
     "output_type": "execute_result"
    }
   ],
   "source": [
    "# input\n",
    "x = Variable(torch.randn([batch_size, max(input_length[0]), input_dim]))\n",
    "\n",
    "# initial hidden\n",
    "h = Variable(torch.zeros(batch_size, hidden_dim))\n",
    "c = Variable(torch.zeros(batch_size, hidden_dim))\n",
    "\n",
    "outputs = []\n",
    "for i in range(max(input_length[0])):\n",
    "    h, c = lstmcell(x[:, i, :], (h, c))\n",
    "    outputs.append((h, c))\n",
    "\n",
    "outputs"
   ]
  },
  {
   "cell_type": "markdown",
   "metadata": {},
   "source": [
    "# (Naive) Speed Comparison between LSTM vs LSTMCell"
   ]
  },
  {
   "cell_type": "code",
   "execution_count": 17,
   "metadata": {
    "ExecuteTime": {
     "end_time": "2017-07-30T20:02:03.117826Z",
     "start_time": "2017-07-30T20:02:03.086205Z"
    },
    "collapsed": true
   },
   "outputs": [],
   "source": [
    "from time import time"
   ]
  },
  {
   "cell_type": "code",
   "execution_count": 24,
   "metadata": {
    "ExecuteTime": {
     "end_time": "2017-07-30T20:02:57.417465Z",
     "start_time": "2017-07-30T20:02:57.395568Z"
    },
    "collapsed": true
   },
   "outputs": [],
   "source": [
    "batch_size = 30\n",
    "input_dim = 40\n",
    "hidden_dim = 40\n",
    "max_seq_len = 50\n",
    "num_layers = 1\n",
    "\n",
    "n_epochs = 1000"
   ]
  },
  {
   "cell_type": "code",
   "execution_count": 25,
   "metadata": {
    "ExecuteTime": {
     "end_time": "2017-07-30T20:02:58.120523Z",
     "start_time": "2017-07-30T20:02:58.101593Z"
    },
    "collapsed": true
   },
   "outputs": [],
   "source": [
    "lstm = nn.LSTM(input_dim, hidden_dim, batch_first=True)\n",
    "lstmcell = lstmcell = nn.LSTMCell(input_dim, hidden_dim)"
   ]
  },
  {
   "cell_type": "markdown",
   "metadata": {},
   "source": [
    "## Feeding predefined inputs\n",
    "### - used in RNN Encoder"
   ]
  },
  {
   "cell_type": "markdown",
   "metadata": {
    "ExecuteTime": {
     "end_time": "2017-07-30T15:34:38.349961Z",
     "start_time": "2017-07-30T15:34:38.334025Z"
    }
   },
   "source": [
    "### LSTM"
   ]
  },
  {
   "cell_type": "code",
   "execution_count": 26,
   "metadata": {
    "ExecuteTime": {
     "end_time": "2017-07-30T20:03:18.449299Z",
     "start_time": "2017-07-30T20:03:02.396960Z"
    },
    "scrolled": false
   },
   "outputs": [
    {
     "name": "stdout",
     "output_type": "stream",
     "text": [
      "16.018003940582275\n"
     ]
    }
   ],
   "source": [
    "%timeit\n",
    "x = Variable(torch.randn([batch_size, max_seq_len, input_dim]))\n",
    "h_0 = Variable(torch.zeros(num_layers, batch_size, hidden_dim))\n",
    "c_0 = Variable(torch.zeros(num_layers, batch_size, hidden_dim))\n",
    "\n",
    "start = time()\n",
    "\n",
    "for _ in range(n_epochs):\n",
    "    outputs_ = lstm(x, (h_0, c_0))\n",
    "\n",
    "print(time() - start)"
   ]
  },
  {
   "cell_type": "markdown",
   "metadata": {},
   "source": [
    "### LSTMCell"
   ]
  },
  {
   "cell_type": "code",
   "execution_count": 27,
   "metadata": {
    "ExecuteTime": {
     "end_time": "2017-07-30T20:04:02.543777Z",
     "start_time": "2017-07-30T20:03:46.318994Z"
    },
    "scrolled": false
   },
   "outputs": [
    {
     "name": "stdout",
     "output_type": "stream",
     "text": [
      "16.192583322525024\n"
     ]
    }
   ],
   "source": [
    "%timeit\n",
    "x = Variable(torch.randn([batch_size, max_seq_len, input_dim]))\n",
    "\n",
    "start = time()\n",
    "\n",
    "for _ in range(n_epochs):\n",
    "    \n",
    "    h = Variable(torch.zeros(batch_size, hidden_dim))\n",
    "    c = Variable(torch.zeros(batch_size, hidden_dim))\n",
    "\n",
    "    for i in range(max_seq_len):\n",
    "        h, c = lstmcell(x[:, i, :], (h, c))\n",
    "\n",
    "print(time() - start)"
   ]
  },
  {
   "cell_type": "markdown",
   "metadata": {},
   "source": [
    "## Feeding output from last step\n",
    "### - used in RNN Decoder"
   ]
  },
  {
   "cell_type": "markdown",
   "metadata": {
    "ExecuteTime": {
     "end_time": "2017-07-30T15:34:50.622762Z",
     "start_time": "2017-07-30T15:34:50.608173Z"
    }
   },
   "source": [
    "### LSTM"
   ]
  },
  {
   "cell_type": "code",
   "execution_count": 28,
   "metadata": {
    "ExecuteTime": {
     "end_time": "2017-07-30T20:04:31.008026Z",
     "start_time": "2017-07-30T20:04:05.894188Z"
    },
    "scrolled": true
   },
   "outputs": [
    {
     "name": "stdout",
     "output_type": "stream",
     "text": [
      "25.086395025253296\n"
     ]
    }
   ],
   "source": [
    "%timeit\n",
    "x = Variable(torch.randn([batch_size, max_seq_len, input_dim]))\n",
    "\n",
    "start = time()\n",
    "\n",
    "for _ in range(n_epochs):\n",
    "    \n",
    "    h = Variable(torch.zeros(num_layers, batch_size, hidden_dim))\n",
    "    c = Variable(torch.zeros(num_layers, batch_size, hidden_dim))\n",
    "    input = x[:, 0:1, :]\n",
    "    \n",
    "    for i in range(max_seq_len):\n",
    "        output, (h, c) = lstm(input, (h, c))\n",
    "        input = output\n",
    "        \n",
    "print(time() - start)"
   ]
  },
  {
   "cell_type": "markdown",
   "metadata": {
    "ExecuteTime": {
     "end_time": "2017-07-30T15:35:01.203683Z",
     "start_time": "2017-07-30T15:35:01.183090Z"
    }
   },
   "source": [
    "### LSTMCell"
   ]
  },
  {
   "cell_type": "code",
   "execution_count": 30,
   "metadata": {
    "ExecuteTime": {
     "end_time": "2017-07-30T20:06:52.459389Z",
     "start_time": "2017-07-30T20:06:37.534348Z"
    }
   },
   "outputs": [
    {
     "name": "stdout",
     "output_type": "stream",
     "text": [
      "14.893877267837524\n"
     ]
    }
   ],
   "source": [
    "%timeit\n",
    "x = Variable(torch.randn([batch_size, max_seq_len, input_dim]))\n",
    "\n",
    "start = time()\n",
    "\n",
    "for _ in range(n_epochs):\n",
    "    \n",
    "    h = Variable(torch.zeros(batch_size, hidden_dim))\n",
    "    c = Variable(torch.zeros(batch_size, hidden_dim))\n",
    "    input = x[:, 0, :]\n",
    "    \n",
    "    for i in range(max_seq_len):\n",
    "        h, c = lstmcell(input, (h, c))\n",
    "        input = input # usually argmax is used\n",
    "\n",
    "print(time() - start)"
   ]
  },
  {
   "cell_type": "markdown",
   "metadata": {},
   "source": [
    "# Rule of thumbs\n",
    "## - Use RNN when Encoding\n",
    "## - Use RNNCells when decoding + (complex architecture)"
   ]
  }
 ],
 "metadata": {
  "anaconda-cloud": {},
  "kernelspec": {
   "display_name": "Python [conda env:mldemo]",
   "language": "python",
   "name": "conda-env-mldemo-py"
  },
  "language_info": {
   "codemirror_mode": {
    "name": "ipython",
    "version": 3
   },
   "file_extension": ".py",
   "mimetype": "text/x-python",
   "name": "python",
   "nbconvert_exporter": "python",
   "pygments_lexer": "ipython3",
   "version": "3.6.0"
  },
  "varInspector": {
   "cols": {
    "lenName": 16,
    "lenType": 16,
    "lenVar": 40
   },
   "kernels_config": {
    "python": {
     "delete_cmd_postfix": "",
     "delete_cmd_prefix": "del ",
     "library": "var_list.py",
     "varRefreshCmd": "print(var_dic_list())"
    },
    "r": {
     "delete_cmd_postfix": ") ",
     "delete_cmd_prefix": "rm(",
     "library": "var_list.r",
     "varRefreshCmd": "cat(var_dic_list()) "
    }
   },
   "types_to_exclude": [
    "module",
    "function",
    "builtin_function_or_method",
    "instance",
    "_Feature"
   ],
   "window_display": false
  }
 },
 "nbformat": 4,
 "nbformat_minor": 2
}
